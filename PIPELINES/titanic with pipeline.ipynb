{
 "cells": [
  {
   "cell_type": "code",
   "execution_count": 1,
   "id": "f6fcd025",
   "metadata": {},
   "outputs": [],
   "source": [
    "import numpy as np\n",
    "import pandas as pd\n",
    "\n",
    "from sklearn.model_selection import train_test_split\n",
    "\n",
    "from sklearn.impute import SimpleImputer\n",
    "from sklearn.preprocessing import OrdinalEncoder\n",
    "from sklearn.preprocessing import OneHotEncoder\n",
    "\n",
    "from sklearn.preprocessing import StandardScaler\n",
    "from sklearn.preprocessing import MinMaxScaler\n",
    "\n",
    "from sklearn.compose import ColumnTransformer"
   ]
  },
  {
   "cell_type": "code",
   "execution_count": 2,
   "id": "a69b90fb",
   "metadata": {},
   "outputs": [
    {
     "data": {
      "text/html": [
       "<div>\n",
       "<style scoped>\n",
       "    .dataframe tbody tr th:only-of-type {\n",
       "        vertical-align: middle;\n",
       "    }\n",
       "\n",
       "    .dataframe tbody tr th {\n",
       "        vertical-align: top;\n",
       "    }\n",
       "\n",
       "    .dataframe thead th {\n",
       "        text-align: right;\n",
       "    }\n",
       "</style>\n",
       "<table border=\"1\" class=\"dataframe\">\n",
       "  <thead>\n",
       "    <tr style=\"text-align: right;\">\n",
       "      <th></th>\n",
       "      <th>PassengerId</th>\n",
       "      <th>Survived</th>\n",
       "      <th>Pclass</th>\n",
       "      <th>Name</th>\n",
       "      <th>Sex</th>\n",
       "      <th>Age</th>\n",
       "      <th>SibSp</th>\n",
       "      <th>Parch</th>\n",
       "      <th>Ticket</th>\n",
       "      <th>Fare</th>\n",
       "      <th>Cabin</th>\n",
       "      <th>Embarked</th>\n",
       "    </tr>\n",
       "  </thead>\n",
       "  <tbody>\n",
       "    <tr>\n",
       "      <th>264</th>\n",
       "      <td>265</td>\n",
       "      <td>0</td>\n",
       "      <td>3</td>\n",
       "      <td>Henry, Miss. Delia</td>\n",
       "      <td>female</td>\n",
       "      <td>NaN</td>\n",
       "      <td>0</td>\n",
       "      <td>0</td>\n",
       "      <td>382649</td>\n",
       "      <td>7.7500</td>\n",
       "      <td>NaN</td>\n",
       "      <td>Q</td>\n",
       "    </tr>\n",
       "    <tr>\n",
       "      <th>853</th>\n",
       "      <td>854</td>\n",
       "      <td>1</td>\n",
       "      <td>1</td>\n",
       "      <td>Lines, Miss. Mary Conover</td>\n",
       "      <td>female</td>\n",
       "      <td>16.0</td>\n",
       "      <td>0</td>\n",
       "      <td>1</td>\n",
       "      <td>PC 17592</td>\n",
       "      <td>39.4000</td>\n",
       "      <td>D28</td>\n",
       "      <td>S</td>\n",
       "    </tr>\n",
       "    <tr>\n",
       "      <th>139</th>\n",
       "      <td>140</td>\n",
       "      <td>0</td>\n",
       "      <td>1</td>\n",
       "      <td>Giglio, Mr. Victor</td>\n",
       "      <td>male</td>\n",
       "      <td>24.0</td>\n",
       "      <td>0</td>\n",
       "      <td>0</td>\n",
       "      <td>PC 17593</td>\n",
       "      <td>79.2000</td>\n",
       "      <td>B86</td>\n",
       "      <td>C</td>\n",
       "    </tr>\n",
       "    <tr>\n",
       "      <th>464</th>\n",
       "      <td>465</td>\n",
       "      <td>0</td>\n",
       "      <td>3</td>\n",
       "      <td>Maisner, Mr. Simon</td>\n",
       "      <td>male</td>\n",
       "      <td>NaN</td>\n",
       "      <td>0</td>\n",
       "      <td>0</td>\n",
       "      <td>A/S 2816</td>\n",
       "      <td>8.0500</td>\n",
       "      <td>NaN</td>\n",
       "      <td>S</td>\n",
       "    </tr>\n",
       "    <tr>\n",
       "      <th>653</th>\n",
       "      <td>654</td>\n",
       "      <td>1</td>\n",
       "      <td>3</td>\n",
       "      <td>O'Leary, Miss. Hanora \"Norah\"</td>\n",
       "      <td>female</td>\n",
       "      <td>NaN</td>\n",
       "      <td>0</td>\n",
       "      <td>0</td>\n",
       "      <td>330919</td>\n",
       "      <td>7.8292</td>\n",
       "      <td>NaN</td>\n",
       "      <td>Q</td>\n",
       "    </tr>\n",
       "  </tbody>\n",
       "</table>\n",
       "</div>"
      ],
      "text/plain": [
       "     PassengerId  Survived  Pclass                           Name     Sex  \\\n",
       "264          265         0       3             Henry, Miss. Delia  female   \n",
       "853          854         1       1      Lines, Miss. Mary Conover  female   \n",
       "139          140         0       1             Giglio, Mr. Victor    male   \n",
       "464          465         0       3             Maisner, Mr. Simon    male   \n",
       "653          654         1       3  O'Leary, Miss. Hanora \"Norah\"  female   \n",
       "\n",
       "      Age  SibSp  Parch    Ticket     Fare Cabin Embarked  \n",
       "264   NaN      0      0    382649   7.7500   NaN        Q  \n",
       "853  16.0      0      1  PC 17592  39.4000   D28        S  \n",
       "139  24.0      0      0  PC 17593  79.2000   B86        C  \n",
       "464   NaN      0      0  A/S 2816   8.0500   NaN        S  \n",
       "653   NaN      0      0    330919   7.8292   NaN        Q  "
      ]
     },
     "execution_count": 2,
     "metadata": {},
     "output_type": "execute_result"
    }
   ],
   "source": [
    "df = pd.read_csv(\"https://raw.githubusercontent.com/campusx-official/100-days-of-machine-learning/main/day29-sklearn-pipelines/train.csv\")\n",
    "df.sample(5)"
   ]
  },
  {
   "cell_type": "code",
   "execution_count": 3,
   "id": "64754895",
   "metadata": {},
   "outputs": [
    {
     "data": {
      "text/plain": [
       "(891, 12)"
      ]
     },
     "execution_count": 3,
     "metadata": {},
     "output_type": "execute_result"
    }
   ],
   "source": [
    "df.shape"
   ]
  },
  {
   "cell_type": "code",
   "execution_count": 4,
   "id": "6b75e0c2",
   "metadata": {},
   "outputs": [],
   "source": [
    "df.drop(columns=['PassengerId','Name','Ticket','Cabin'],inplace=True)"
   ]
  },
  {
   "cell_type": "code",
   "execution_count": 5,
   "id": "78922033",
   "metadata": {},
   "outputs": [
    {
     "data": {
      "text/plain": [
       "Survived      0\n",
       "Pclass        0\n",
       "Sex           0\n",
       "Age         177\n",
       "SibSp         0\n",
       "Parch         0\n",
       "Fare          0\n",
       "Embarked      2\n",
       "dtype: int64"
      ]
     },
     "execution_count": 5,
     "metadata": {},
     "output_type": "execute_result"
    }
   ],
   "source": [
    "df.isnull().sum()"
   ]
  },
  {
   "cell_type": "code",
   "execution_count": 6,
   "id": "d0908379",
   "metadata": {},
   "outputs": [],
   "source": [
    "x_train,x_test,y_train,y_test = train_test_split(df.drop(columns=['Survived']),\n",
    "                                                        df['Survived'],\n",
    "                                                        test_size=0.2,\n",
    "                                                        random_state=42)"
   ]
  },
  {
   "cell_type": "code",
   "execution_count": 7,
   "id": "c195a96b",
   "metadata": {},
   "outputs": [
    {
     "data": {
      "text/html": [
       "<div>\n",
       "<style scoped>\n",
       "    .dataframe tbody tr th:only-of-type {\n",
       "        vertical-align: middle;\n",
       "    }\n",
       "\n",
       "    .dataframe tbody tr th {\n",
       "        vertical-align: top;\n",
       "    }\n",
       "\n",
       "    .dataframe thead th {\n",
       "        text-align: right;\n",
       "    }\n",
       "</style>\n",
       "<table border=\"1\" class=\"dataframe\">\n",
       "  <thead>\n",
       "    <tr style=\"text-align: right;\">\n",
       "      <th></th>\n",
       "      <th>Pclass</th>\n",
       "      <th>Sex</th>\n",
       "      <th>Age</th>\n",
       "      <th>SibSp</th>\n",
       "      <th>Parch</th>\n",
       "      <th>Fare</th>\n",
       "      <th>Embarked</th>\n",
       "    </tr>\n",
       "  </thead>\n",
       "  <tbody>\n",
       "    <tr>\n",
       "      <th>331</th>\n",
       "      <td>1</td>\n",
       "      <td>male</td>\n",
       "      <td>45.5</td>\n",
       "      <td>0</td>\n",
       "      <td>0</td>\n",
       "      <td>28.5000</td>\n",
       "      <td>S</td>\n",
       "    </tr>\n",
       "    <tr>\n",
       "      <th>733</th>\n",
       "      <td>2</td>\n",
       "      <td>male</td>\n",
       "      <td>23.0</td>\n",
       "      <td>0</td>\n",
       "      <td>0</td>\n",
       "      <td>13.0000</td>\n",
       "      <td>S</td>\n",
       "    </tr>\n",
       "    <tr>\n",
       "      <th>382</th>\n",
       "      <td>3</td>\n",
       "      <td>male</td>\n",
       "      <td>32.0</td>\n",
       "      <td>0</td>\n",
       "      <td>0</td>\n",
       "      <td>7.9250</td>\n",
       "      <td>S</td>\n",
       "    </tr>\n",
       "    <tr>\n",
       "      <th>704</th>\n",
       "      <td>3</td>\n",
       "      <td>male</td>\n",
       "      <td>26.0</td>\n",
       "      <td>1</td>\n",
       "      <td>0</td>\n",
       "      <td>7.8542</td>\n",
       "      <td>S</td>\n",
       "    </tr>\n",
       "    <tr>\n",
       "      <th>813</th>\n",
       "      <td>3</td>\n",
       "      <td>female</td>\n",
       "      <td>6.0</td>\n",
       "      <td>4</td>\n",
       "      <td>2</td>\n",
       "      <td>31.2750</td>\n",
       "      <td>S</td>\n",
       "    </tr>\n",
       "    <tr>\n",
       "      <th>...</th>\n",
       "      <td>...</td>\n",
       "      <td>...</td>\n",
       "      <td>...</td>\n",
       "      <td>...</td>\n",
       "      <td>...</td>\n",
       "      <td>...</td>\n",
       "      <td>...</td>\n",
       "    </tr>\n",
       "    <tr>\n",
       "      <th>106</th>\n",
       "      <td>3</td>\n",
       "      <td>female</td>\n",
       "      <td>21.0</td>\n",
       "      <td>0</td>\n",
       "      <td>0</td>\n",
       "      <td>7.6500</td>\n",
       "      <td>S</td>\n",
       "    </tr>\n",
       "    <tr>\n",
       "      <th>270</th>\n",
       "      <td>1</td>\n",
       "      <td>male</td>\n",
       "      <td>NaN</td>\n",
       "      <td>0</td>\n",
       "      <td>0</td>\n",
       "      <td>31.0000</td>\n",
       "      <td>S</td>\n",
       "    </tr>\n",
       "    <tr>\n",
       "      <th>860</th>\n",
       "      <td>3</td>\n",
       "      <td>male</td>\n",
       "      <td>41.0</td>\n",
       "      <td>2</td>\n",
       "      <td>0</td>\n",
       "      <td>14.1083</td>\n",
       "      <td>S</td>\n",
       "    </tr>\n",
       "    <tr>\n",
       "      <th>435</th>\n",
       "      <td>1</td>\n",
       "      <td>female</td>\n",
       "      <td>14.0</td>\n",
       "      <td>1</td>\n",
       "      <td>2</td>\n",
       "      <td>120.0000</td>\n",
       "      <td>S</td>\n",
       "    </tr>\n",
       "    <tr>\n",
       "      <th>102</th>\n",
       "      <td>1</td>\n",
       "      <td>male</td>\n",
       "      <td>21.0</td>\n",
       "      <td>0</td>\n",
       "      <td>1</td>\n",
       "      <td>77.2875</td>\n",
       "      <td>S</td>\n",
       "    </tr>\n",
       "  </tbody>\n",
       "</table>\n",
       "<p>712 rows × 7 columns</p>\n",
       "</div>"
      ],
      "text/plain": [
       "     Pclass     Sex   Age  SibSp  Parch      Fare Embarked\n",
       "331       1    male  45.5      0      0   28.5000        S\n",
       "733       2    male  23.0      0      0   13.0000        S\n",
       "382       3    male  32.0      0      0    7.9250        S\n",
       "704       3    male  26.0      1      0    7.8542        S\n",
       "813       3  female   6.0      4      2   31.2750        S\n",
       "..      ...     ...   ...    ...    ...       ...      ...\n",
       "106       3  female  21.0      0      0    7.6500        S\n",
       "270       1    male   NaN      0      0   31.0000        S\n",
       "860       3    male  41.0      2      0   14.1083        S\n",
       "435       1  female  14.0      1      2  120.0000        S\n",
       "102       1    male  21.0      0      1   77.2875        S\n",
       "\n",
       "[712 rows x 7 columns]"
      ]
     },
     "execution_count": 7,
     "metadata": {},
     "output_type": "execute_result"
    }
   ],
   "source": [
    "x_train"
   ]
  },
  {
   "cell_type": "code",
   "execution_count": 9,
   "id": "1889b3f5",
   "metadata": {},
   "outputs": [],
   "source": [
    "#Imputation Transformer\n",
    "\n",
    "trf1 = ColumnTransformer([\n",
    "    ('imp_age',SimpleImputer(),[2]),\n",
    "    ('imp_embarked',SimpleImputer(strategy='most_frequent'),[6])\n",
    "],remainder='passthrough')"
   ]
  },
  {
   "cell_type": "markdown",
   "id": "41a4a092",
   "metadata": {},
   "source": [
    "Note:\n",
    "    While Using pipelines and transformers,\n",
    "    use columns Indices instead of column names \n",
    "    Because it stores as a numpy array and numpy array doesn't contain column names"
   ]
  },
  {
   "cell_type": "code",
   "execution_count": 10,
   "id": "394b0570",
   "metadata": {},
   "outputs": [],
   "source": [
    "#one hot encoding\n",
    "\n",
    "trf2 = ColumnTransformer([\n",
    "    ('ohe_sex_embarked',OneHotEncoder(sparse=False,handle_unknown='ignore'),[1,6])\n",
    "],remainder='passthrough')"
   ]
  },
  {
   "cell_type": "code",
   "execution_count": 11,
   "id": "f34081f6",
   "metadata": {},
   "outputs": [],
   "source": [
    "#scaling\n",
    "\n",
    "trf3 = ColumnTransformer([\n",
    "    ('scale',MinMaxScaler(),slice(0,10))\n",
    "])"
   ]
  },
  {
   "cell_type": "markdown",
   "id": "794644e7",
   "metadata": {},
   "source": [
    "while using Feature Selection ,\n",
    "we should use MinMaxScaler instead of StandardScaler\n",
    "\n",
    "After onehotencoding the number of columns become 10 columns"
   ]
  },
  {
   "cell_type": "code",
   "execution_count": 12,
   "id": "5772da61",
   "metadata": {},
   "outputs": [],
   "source": [
    "#Feature Selection\n",
    "from sklearn.feature_selection import SelectKBest,chi2\n",
    "\n",
    "trf4 = SelectKBest(score_func=chi2,k=8)"
   ]
  },
  {
   "cell_type": "code",
   "execution_count": 13,
   "id": "e4b1214e",
   "metadata": {},
   "outputs": [],
   "source": [
    "#train the model\n",
    "from sklearn.tree import DecisionTreeClassifier\n",
    "\n",
    "trf5 = DecisionTreeClassifier()"
   ]
  },
  {
   "cell_type": "markdown",
   "id": "a7b207c9",
   "metadata": {},
   "source": [
    "### Create Pipeline"
   ]
  },
  {
   "cell_type": "code",
   "execution_count": 14,
   "id": "2860bd10",
   "metadata": {},
   "outputs": [],
   "source": [
    "from sklearn.pipeline import Pipeline,make_pipeline\n",
    "\n",
    "pipe = Pipeline([\n",
    "    ('trf1',trf1),\n",
    "    ('trf2',trf2),\n",
    "    ('trf3',trf3),\n",
    "    ('trf4',trf4),\n",
    "    ('trf5',trf5)\n",
    "])"
   ]
  },
  {
   "cell_type": "markdown",
   "id": "8af60bc2",
   "metadata": {},
   "source": [
    "### Pipeline vs make_pipeline"
   ]
  },
  {
   "cell_type": "markdown",
   "id": "cfec6364",
   "metadata": {},
   "source": [
    "Pipeline requires naming of steps,make_pipeline does not.\n",
    "\n",
    "(Same applicable to ColumnTransformer vs make_column_transformer)"
   ]
  },
  {
   "cell_type": "code",
   "execution_count": 15,
   "id": "9d050513",
   "metadata": {},
   "outputs": [],
   "source": [
    "#alternate syntax\n",
    "# pipe = make_pipeline(trf1,trf2,trf3,trf4,trf5)"
   ]
  },
  {
   "cell_type": "markdown",
   "id": "b06a00a4",
   "metadata": {},
   "source": [
    "If there is a model present in the pipeline, Use fit\n",
    "\n",
    "else there is no model training, only the preprocessing then use fit_transform"
   ]
  },
  {
   "cell_type": "code",
   "execution_count": 16,
   "id": "c3bcef02",
   "metadata": {},
   "outputs": [
    {
     "data": {
      "text/plain": [
       "Pipeline(steps=[('trf1',\n",
       "                 ColumnTransformer(remainder='passthrough',\n",
       "                                   transformers=[('imp_age', SimpleImputer(),\n",
       "                                                  [2]),\n",
       "                                                 ('imp_embarked',\n",
       "                                                  SimpleImputer(strategy='most_frequent'),\n",
       "                                                  [6])])),\n",
       "                ('trf2',\n",
       "                 ColumnTransformer(remainder='passthrough',\n",
       "                                   transformers=[('ohe_sex_embarked',\n",
       "                                                  OneHotEncoder(handle_unknown='ignore',\n",
       "                                                                sparse=False),\n",
       "                                                  [1, 6])])),\n",
       "                ('trf3',\n",
       "                 ColumnTransformer(transformers=[('scale', MinMaxScaler(),\n",
       "                                                  slice(0, 10, None))])),\n",
       "                ('trf4',\n",
       "                 SelectKBest(k=8,\n",
       "                             score_func=<function chi2 at 0x0000018B7FC42CA0>)),\n",
       "                ('trf5', DecisionTreeClassifier())])"
      ]
     },
     "execution_count": 16,
     "metadata": {},
     "output_type": "execute_result"
    }
   ],
   "source": [
    "#train\n",
    "pipe.fit(x_train,y_train)"
   ]
  },
  {
   "cell_type": "code",
   "execution_count": 20,
   "id": "0a61fb5a",
   "metadata": {},
   "outputs": [],
   "source": [
    "# #Display Pipeline\n",
    "\n",
    "from sklearn import set_config\n",
    "set_config(display='diagram')"
   ]
  },
  {
   "cell_type": "code",
   "execution_count": 21,
   "id": "0a57c41e",
   "metadata": {},
   "outputs": [
    {
     "data": {
      "text/html": [
       "<style>#sk-0dfb79c4-f0b4-431c-b6ba-1e13773c84fa {color: black;background-color: white;}#sk-0dfb79c4-f0b4-431c-b6ba-1e13773c84fa pre{padding: 0;}#sk-0dfb79c4-f0b4-431c-b6ba-1e13773c84fa div.sk-toggleable {background-color: white;}#sk-0dfb79c4-f0b4-431c-b6ba-1e13773c84fa label.sk-toggleable__label {cursor: pointer;display: block;width: 100%;margin-bottom: 0;padding: 0.3em;box-sizing: border-box;text-align: center;}#sk-0dfb79c4-f0b4-431c-b6ba-1e13773c84fa label.sk-toggleable__label-arrow:before {content: \"▸\";float: left;margin-right: 0.25em;color: #696969;}#sk-0dfb79c4-f0b4-431c-b6ba-1e13773c84fa label.sk-toggleable__label-arrow:hover:before {color: black;}#sk-0dfb79c4-f0b4-431c-b6ba-1e13773c84fa div.sk-estimator:hover label.sk-toggleable__label-arrow:before {color: black;}#sk-0dfb79c4-f0b4-431c-b6ba-1e13773c84fa div.sk-toggleable__content {max-height: 0;max-width: 0;overflow: hidden;text-align: left;background-color: #f0f8ff;}#sk-0dfb79c4-f0b4-431c-b6ba-1e13773c84fa div.sk-toggleable__content pre {margin: 0.2em;color: black;border-radius: 0.25em;background-color: #f0f8ff;}#sk-0dfb79c4-f0b4-431c-b6ba-1e13773c84fa input.sk-toggleable__control:checked~div.sk-toggleable__content {max-height: 200px;max-width: 100%;overflow: auto;}#sk-0dfb79c4-f0b4-431c-b6ba-1e13773c84fa input.sk-toggleable__control:checked~label.sk-toggleable__label-arrow:before {content: \"▾\";}#sk-0dfb79c4-f0b4-431c-b6ba-1e13773c84fa div.sk-estimator input.sk-toggleable__control:checked~label.sk-toggleable__label {background-color: #d4ebff;}#sk-0dfb79c4-f0b4-431c-b6ba-1e13773c84fa div.sk-label input.sk-toggleable__control:checked~label.sk-toggleable__label {background-color: #d4ebff;}#sk-0dfb79c4-f0b4-431c-b6ba-1e13773c84fa input.sk-hidden--visually {border: 0;clip: rect(1px 1px 1px 1px);clip: rect(1px, 1px, 1px, 1px);height: 1px;margin: -1px;overflow: hidden;padding: 0;position: absolute;width: 1px;}#sk-0dfb79c4-f0b4-431c-b6ba-1e13773c84fa div.sk-estimator {font-family: monospace;background-color: #f0f8ff;border: 1px dotted black;border-radius: 0.25em;box-sizing: border-box;margin-bottom: 0.5em;}#sk-0dfb79c4-f0b4-431c-b6ba-1e13773c84fa div.sk-estimator:hover {background-color: #d4ebff;}#sk-0dfb79c4-f0b4-431c-b6ba-1e13773c84fa div.sk-parallel-item::after {content: \"\";width: 100%;border-bottom: 1px solid gray;flex-grow: 1;}#sk-0dfb79c4-f0b4-431c-b6ba-1e13773c84fa div.sk-label:hover label.sk-toggleable__label {background-color: #d4ebff;}#sk-0dfb79c4-f0b4-431c-b6ba-1e13773c84fa div.sk-serial::before {content: \"\";position: absolute;border-left: 1px solid gray;box-sizing: border-box;top: 2em;bottom: 0;left: 50%;}#sk-0dfb79c4-f0b4-431c-b6ba-1e13773c84fa div.sk-serial {display: flex;flex-direction: column;align-items: center;background-color: white;padding-right: 0.2em;padding-left: 0.2em;}#sk-0dfb79c4-f0b4-431c-b6ba-1e13773c84fa div.sk-item {z-index: 1;}#sk-0dfb79c4-f0b4-431c-b6ba-1e13773c84fa div.sk-parallel {display: flex;align-items: stretch;justify-content: center;background-color: white;}#sk-0dfb79c4-f0b4-431c-b6ba-1e13773c84fa div.sk-parallel::before {content: \"\";position: absolute;border-left: 1px solid gray;box-sizing: border-box;top: 2em;bottom: 0;left: 50%;}#sk-0dfb79c4-f0b4-431c-b6ba-1e13773c84fa div.sk-parallel-item {display: flex;flex-direction: column;position: relative;background-color: white;}#sk-0dfb79c4-f0b4-431c-b6ba-1e13773c84fa div.sk-parallel-item:first-child::after {align-self: flex-end;width: 50%;}#sk-0dfb79c4-f0b4-431c-b6ba-1e13773c84fa div.sk-parallel-item:last-child::after {align-self: flex-start;width: 50%;}#sk-0dfb79c4-f0b4-431c-b6ba-1e13773c84fa div.sk-parallel-item:only-child::after {width: 0;}#sk-0dfb79c4-f0b4-431c-b6ba-1e13773c84fa div.sk-dashed-wrapped {border: 1px dashed gray;margin: 0 0.4em 0.5em 0.4em;box-sizing: border-box;padding-bottom: 0.4em;background-color: white;position: relative;}#sk-0dfb79c4-f0b4-431c-b6ba-1e13773c84fa div.sk-label label {font-family: monospace;font-weight: bold;background-color: white;display: inline-block;line-height: 1.2em;}#sk-0dfb79c4-f0b4-431c-b6ba-1e13773c84fa div.sk-label-container {position: relative;z-index: 2;text-align: center;}#sk-0dfb79c4-f0b4-431c-b6ba-1e13773c84fa div.sk-container {/* jupyter's `normalize.less` sets `[hidden] { display: none; }` but bootstrap.min.css set `[hidden] { display: none !important; }` so we also need the `!important` here to be able to override the default hidden behavior on the sphinx rendered scikit-learn.org. See: https://github.com/scikit-learn/scikit-learn/issues/21755 */display: inline-block !important;position: relative;}#sk-0dfb79c4-f0b4-431c-b6ba-1e13773c84fa div.sk-text-repr-fallback {display: none;}</style><div id=\"sk-0dfb79c4-f0b4-431c-b6ba-1e13773c84fa\" class=\"sk-top-container\"><div class=\"sk-text-repr-fallback\"><pre>Pipeline(steps=[(&#x27;trf1&#x27;,\n",
       "                 ColumnTransformer(remainder=&#x27;passthrough&#x27;,\n",
       "                                   transformers=[(&#x27;imp_age&#x27;, SimpleImputer(),\n",
       "                                                  [2]),\n",
       "                                                 (&#x27;imp_embarked&#x27;,\n",
       "                                                  SimpleImputer(strategy=&#x27;most_frequent&#x27;),\n",
       "                                                  [6])])),\n",
       "                (&#x27;trf2&#x27;,\n",
       "                 ColumnTransformer(remainder=&#x27;passthrough&#x27;,\n",
       "                                   transformers=[(&#x27;ohe_sex_embarked&#x27;,\n",
       "                                                  OneHotEncoder(handle_unknown=&#x27;ignore&#x27;,\n",
       "                                                                sparse=False),\n",
       "                                                  [1, 6])])),\n",
       "                (&#x27;trf3&#x27;,\n",
       "                 ColumnTransformer(transformers=[(&#x27;scale&#x27;, MinMaxScaler(),\n",
       "                                                  slice(0, 10, None))])),\n",
       "                (&#x27;trf4&#x27;,\n",
       "                 SelectKBest(k=8,\n",
       "                             score_func=&lt;function chi2 at 0x0000018B7FC42CA0&gt;)),\n",
       "                (&#x27;trf5&#x27;, DecisionTreeClassifier())])</pre><b>Please rerun this cell to show the HTML repr or trust the notebook.</b></div><div class=\"sk-container\" hidden><div class=\"sk-item sk-dashed-wrapped\"><div class=\"sk-label-container\"><div class=\"sk-label sk-toggleable\"><input class=\"sk-toggleable__control sk-hidden--visually\" id=\"ea850c49-a68a-4b8e-beba-08858bb48ace\" type=\"checkbox\" ><label for=\"ea850c49-a68a-4b8e-beba-08858bb48ace\" class=\"sk-toggleable__label sk-toggleable__label-arrow\">Pipeline</label><div class=\"sk-toggleable__content\"><pre>Pipeline(steps=[(&#x27;trf1&#x27;,\n",
       "                 ColumnTransformer(remainder=&#x27;passthrough&#x27;,\n",
       "                                   transformers=[(&#x27;imp_age&#x27;, SimpleImputer(),\n",
       "                                                  [2]),\n",
       "                                                 (&#x27;imp_embarked&#x27;,\n",
       "                                                  SimpleImputer(strategy=&#x27;most_frequent&#x27;),\n",
       "                                                  [6])])),\n",
       "                (&#x27;trf2&#x27;,\n",
       "                 ColumnTransformer(remainder=&#x27;passthrough&#x27;,\n",
       "                                   transformers=[(&#x27;ohe_sex_embarked&#x27;,\n",
       "                                                  OneHotEncoder(handle_unknown=&#x27;ignore&#x27;,\n",
       "                                                                sparse=False),\n",
       "                                                  [1, 6])])),\n",
       "                (&#x27;trf3&#x27;,\n",
       "                 ColumnTransformer(transformers=[(&#x27;scale&#x27;, MinMaxScaler(),\n",
       "                                                  slice(0, 10, None))])),\n",
       "                (&#x27;trf4&#x27;,\n",
       "                 SelectKBest(k=8,\n",
       "                             score_func=&lt;function chi2 at 0x0000018B7FC42CA0&gt;)),\n",
       "                (&#x27;trf5&#x27;, DecisionTreeClassifier())])</pre></div></div></div><div class=\"sk-serial\"><div class=\"sk-item sk-dashed-wrapped\"><div class=\"sk-label-container\"><div class=\"sk-label sk-toggleable\"><input class=\"sk-toggleable__control sk-hidden--visually\" id=\"1e764ada-032d-4ee3-b898-4f1ae0e02659\" type=\"checkbox\" ><label for=\"1e764ada-032d-4ee3-b898-4f1ae0e02659\" class=\"sk-toggleable__label sk-toggleable__label-arrow\">trf1: ColumnTransformer</label><div class=\"sk-toggleable__content\"><pre>ColumnTransformer(remainder=&#x27;passthrough&#x27;,\n",
       "                  transformers=[(&#x27;imp_age&#x27;, SimpleImputer(), [2]),\n",
       "                                (&#x27;imp_embarked&#x27;,\n",
       "                                 SimpleImputer(strategy=&#x27;most_frequent&#x27;),\n",
       "                                 [6])])</pre></div></div></div><div class=\"sk-parallel\"><div class=\"sk-parallel-item\"><div class=\"sk-item\"><div class=\"sk-label-container\"><div class=\"sk-label sk-toggleable\"><input class=\"sk-toggleable__control sk-hidden--visually\" id=\"c0ccc4fa-fa06-432b-9aa1-a73fc339831e\" type=\"checkbox\" ><label for=\"c0ccc4fa-fa06-432b-9aa1-a73fc339831e\" class=\"sk-toggleable__label sk-toggleable__label-arrow\">imp_age</label><div class=\"sk-toggleable__content\"><pre>[2]</pre></div></div></div><div class=\"sk-serial\"><div class=\"sk-item\"><div class=\"sk-estimator sk-toggleable\"><input class=\"sk-toggleable__control sk-hidden--visually\" id=\"bf1f90ed-b6c2-4646-9792-c1797e2e5d27\" type=\"checkbox\" ><label for=\"bf1f90ed-b6c2-4646-9792-c1797e2e5d27\" class=\"sk-toggleable__label sk-toggleable__label-arrow\">SimpleImputer</label><div class=\"sk-toggleable__content\"><pre>SimpleImputer()</pre></div></div></div></div></div></div><div class=\"sk-parallel-item\"><div class=\"sk-item\"><div class=\"sk-label-container\"><div class=\"sk-label sk-toggleable\"><input class=\"sk-toggleable__control sk-hidden--visually\" id=\"ec07dca4-08f0-4419-b089-9de9f0d70390\" type=\"checkbox\" ><label for=\"ec07dca4-08f0-4419-b089-9de9f0d70390\" class=\"sk-toggleable__label sk-toggleable__label-arrow\">imp_embarked</label><div class=\"sk-toggleable__content\"><pre>[6]</pre></div></div></div><div class=\"sk-serial\"><div class=\"sk-item\"><div class=\"sk-estimator sk-toggleable\"><input class=\"sk-toggleable__control sk-hidden--visually\" id=\"762ef021-0253-453b-912a-d307a355e00d\" type=\"checkbox\" ><label for=\"762ef021-0253-453b-912a-d307a355e00d\" class=\"sk-toggleable__label sk-toggleable__label-arrow\">SimpleImputer</label><div class=\"sk-toggleable__content\"><pre>SimpleImputer(strategy=&#x27;most_frequent&#x27;)</pre></div></div></div></div></div></div><div class=\"sk-parallel-item\"><div class=\"sk-item\"><div class=\"sk-label-container\"><div class=\"sk-label sk-toggleable\"><input class=\"sk-toggleable__control sk-hidden--visually\" id=\"fabef124-ce05-4f6f-a8d2-a1e868dbe06e\" type=\"checkbox\" ><label for=\"fabef124-ce05-4f6f-a8d2-a1e868dbe06e\" class=\"sk-toggleable__label sk-toggleable__label-arrow\">remainder</label><div class=\"sk-toggleable__content\"><pre>[&#x27;Pclass&#x27;, &#x27;Sex&#x27;, &#x27;SibSp&#x27;, &#x27;Parch&#x27;, &#x27;Fare&#x27;]</pre></div></div></div><div class=\"sk-serial\"><div class=\"sk-item\"><div class=\"sk-estimator sk-toggleable\"><input class=\"sk-toggleable__control sk-hidden--visually\" id=\"aa30e2f6-dcdc-438a-a296-4e8b4fe3babf\" type=\"checkbox\" ><label for=\"aa30e2f6-dcdc-438a-a296-4e8b4fe3babf\" class=\"sk-toggleable__label sk-toggleable__label-arrow\">passthrough</label><div class=\"sk-toggleable__content\"><pre>passthrough</pre></div></div></div></div></div></div></div></div><div class=\"sk-item sk-dashed-wrapped\"><div class=\"sk-label-container\"><div class=\"sk-label sk-toggleable\"><input class=\"sk-toggleable__control sk-hidden--visually\" id=\"62069b60-d926-4218-a88d-770227d954f9\" type=\"checkbox\" ><label for=\"62069b60-d926-4218-a88d-770227d954f9\" class=\"sk-toggleable__label sk-toggleable__label-arrow\">trf2: ColumnTransformer</label><div class=\"sk-toggleable__content\"><pre>ColumnTransformer(remainder=&#x27;passthrough&#x27;,\n",
       "                  transformers=[(&#x27;ohe_sex_embarked&#x27;,\n",
       "                                 OneHotEncoder(handle_unknown=&#x27;ignore&#x27;,\n",
       "                                               sparse=False),\n",
       "                                 [1, 6])])</pre></div></div></div><div class=\"sk-parallel\"><div class=\"sk-parallel-item\"><div class=\"sk-item\"><div class=\"sk-label-container\"><div class=\"sk-label sk-toggleable\"><input class=\"sk-toggleable__control sk-hidden--visually\" id=\"8cfcd6b2-7fa0-4318-ba98-3c96cdd80a95\" type=\"checkbox\" ><label for=\"8cfcd6b2-7fa0-4318-ba98-3c96cdd80a95\" class=\"sk-toggleable__label sk-toggleable__label-arrow\">ohe_sex_embarked</label><div class=\"sk-toggleable__content\"><pre>[1, 6]</pre></div></div></div><div class=\"sk-serial\"><div class=\"sk-item\"><div class=\"sk-estimator sk-toggleable\"><input class=\"sk-toggleable__control sk-hidden--visually\" id=\"79d2a4bc-0d01-409e-a629-ff7cf39dedaa\" type=\"checkbox\" ><label for=\"79d2a4bc-0d01-409e-a629-ff7cf39dedaa\" class=\"sk-toggleable__label sk-toggleable__label-arrow\">OneHotEncoder</label><div class=\"sk-toggleable__content\"><pre>OneHotEncoder(handle_unknown=&#x27;ignore&#x27;, sparse=False)</pre></div></div></div></div></div></div><div class=\"sk-parallel-item\"><div class=\"sk-item\"><div class=\"sk-label-container\"><div class=\"sk-label sk-toggleable\"><input class=\"sk-toggleable__control sk-hidden--visually\" id=\"7f4d1e4a-f3e2-46f2-aa27-89cbe80723c2\" type=\"checkbox\" ><label for=\"7f4d1e4a-f3e2-46f2-aa27-89cbe80723c2\" class=\"sk-toggleable__label sk-toggleable__label-arrow\">remainder</label><div class=\"sk-toggleable__content\"><pre>[0, 2, 3, 4, 5]</pre></div></div></div><div class=\"sk-serial\"><div class=\"sk-item\"><div class=\"sk-estimator sk-toggleable\"><input class=\"sk-toggleable__control sk-hidden--visually\" id=\"bce39a33-d3ec-4324-9c2c-ef3a908f59c8\" type=\"checkbox\" ><label for=\"bce39a33-d3ec-4324-9c2c-ef3a908f59c8\" class=\"sk-toggleable__label sk-toggleable__label-arrow\">passthrough</label><div class=\"sk-toggleable__content\"><pre>passthrough</pre></div></div></div></div></div></div></div></div><div class=\"sk-item sk-dashed-wrapped\"><div class=\"sk-label-container\"><div class=\"sk-label sk-toggleable\"><input class=\"sk-toggleable__control sk-hidden--visually\" id=\"0368fae2-0827-4a43-b86a-1e73572071c0\" type=\"checkbox\" ><label for=\"0368fae2-0827-4a43-b86a-1e73572071c0\" class=\"sk-toggleable__label sk-toggleable__label-arrow\">trf3: ColumnTransformer</label><div class=\"sk-toggleable__content\"><pre>ColumnTransformer(transformers=[(&#x27;scale&#x27;, MinMaxScaler(), slice(0, 10, None))])</pre></div></div></div><div class=\"sk-parallel\"><div class=\"sk-parallel-item\"><div class=\"sk-item\"><div class=\"sk-label-container\"><div class=\"sk-label sk-toggleable\"><input class=\"sk-toggleable__control sk-hidden--visually\" id=\"95a394cd-70ef-4230-afc5-66e83a348f9e\" type=\"checkbox\" ><label for=\"95a394cd-70ef-4230-afc5-66e83a348f9e\" class=\"sk-toggleable__label sk-toggleable__label-arrow\">scale</label><div class=\"sk-toggleable__content\"><pre>slice(0, 10, None)</pre></div></div></div><div class=\"sk-serial\"><div class=\"sk-item\"><div class=\"sk-estimator sk-toggleable\"><input class=\"sk-toggleable__control sk-hidden--visually\" id=\"b2030689-b4de-4c59-8880-48de6cddd44d\" type=\"checkbox\" ><label for=\"b2030689-b4de-4c59-8880-48de6cddd44d\" class=\"sk-toggleable__label sk-toggleable__label-arrow\">MinMaxScaler</label><div class=\"sk-toggleable__content\"><pre>MinMaxScaler()</pre></div></div></div></div></div></div></div></div><div class=\"sk-item\"><div class=\"sk-estimator sk-toggleable\"><input class=\"sk-toggleable__control sk-hidden--visually\" id=\"f978657d-8553-4213-b76d-b5f471a416c5\" type=\"checkbox\" ><label for=\"f978657d-8553-4213-b76d-b5f471a416c5\" class=\"sk-toggleable__label sk-toggleable__label-arrow\">SelectKBest</label><div class=\"sk-toggleable__content\"><pre>SelectKBest(k=8, score_func=&lt;function chi2 at 0x0000018B7FC42CA0&gt;)</pre></div></div></div><div class=\"sk-item\"><div class=\"sk-estimator sk-toggleable\"><input class=\"sk-toggleable__control sk-hidden--visually\" id=\"4520f973-bc04-4ec0-a778-137c871f12c6\" type=\"checkbox\" ><label for=\"4520f973-bc04-4ec0-a778-137c871f12c6\" class=\"sk-toggleable__label sk-toggleable__label-arrow\">DecisionTreeClassifier</label><div class=\"sk-toggleable__content\"><pre>DecisionTreeClassifier()</pre></div></div></div></div></div></div></div>"
      ],
      "text/plain": [
       "Pipeline(steps=[('trf1',\n",
       "                 ColumnTransformer(remainder='passthrough',\n",
       "                                   transformers=[('imp_age', SimpleImputer(),\n",
       "                                                  [2]),\n",
       "                                                 ('imp_embarked',\n",
       "                                                  SimpleImputer(strategy='most_frequent'),\n",
       "                                                  [6])])),\n",
       "                ('trf2',\n",
       "                 ColumnTransformer(remainder='passthrough',\n",
       "                                   transformers=[('ohe_sex_embarked',\n",
       "                                                  OneHotEncoder(handle_unknown='ignore',\n",
       "                                                                sparse=False),\n",
       "                                                  [1, 6])])),\n",
       "                ('trf3',\n",
       "                 ColumnTransformer(transformers=[('scale', MinMaxScaler(),\n",
       "                                                  slice(0, 10, None))])),\n",
       "                ('trf4',\n",
       "                 SelectKBest(k=8,\n",
       "                             score_func=<function chi2 at 0x0000018B7FC42CA0>)),\n",
       "                ('trf5', DecisionTreeClassifier())])"
      ]
     },
     "execution_count": 21,
     "metadata": {},
     "output_type": "execute_result"
    }
   ],
   "source": [
    "pipe.fit(x_train,y_train)"
   ]
  },
  {
   "cell_type": "markdown",
   "id": "e55eb19d",
   "metadata": {},
   "source": [
    "### Explore the Pipeline\n",
    "In Exploration of the Pipelines,\n",
    "we will learn visualizing the pipeline and post-mortem of pipeline"
   ]
  },
  {
   "cell_type": "code",
   "execution_count": 19,
   "id": "9d4b711c",
   "metadata": {},
   "outputs": [
    {
     "data": {
      "text/plain": [
       "{'trf1': ColumnTransformer(remainder='passthrough',\n",
       "                   transformers=[('imp_age', SimpleImputer(), [2]),\n",
       "                                 ('imp_embarked',\n",
       "                                  SimpleImputer(strategy='most_frequent'),\n",
       "                                  [6])]),\n",
       " 'trf2': ColumnTransformer(remainder='passthrough',\n",
       "                   transformers=[('ohe_sex_embarked',\n",
       "                                  OneHotEncoder(handle_unknown='ignore',\n",
       "                                                sparse=False),\n",
       "                                  [1, 6])]),\n",
       " 'trf3': ColumnTransformer(transformers=[('scale', MinMaxScaler(), slice(0, 10, None))]),\n",
       " 'trf4': SelectKBest(k=8, score_func=<function chi2 at 0x0000018B7FC42CA0>),\n",
       " 'trf5': DecisionTreeClassifier()}"
      ]
     },
     "execution_count": 19,
     "metadata": {},
     "output_type": "execute_result"
    }
   ],
   "source": [
    "pipe.named_steps"
   ]
  },
  {
   "cell_type": "code",
   "execution_count": 22,
   "id": "1c69ac54",
   "metadata": {},
   "outputs": [
    {
     "data": {
      "text/html": [
       "<style>#sk-eb8d9cc7-5572-41a6-974f-10ec5937a3bf {color: black;background-color: white;}#sk-eb8d9cc7-5572-41a6-974f-10ec5937a3bf pre{padding: 0;}#sk-eb8d9cc7-5572-41a6-974f-10ec5937a3bf div.sk-toggleable {background-color: white;}#sk-eb8d9cc7-5572-41a6-974f-10ec5937a3bf label.sk-toggleable__label {cursor: pointer;display: block;width: 100%;margin-bottom: 0;padding: 0.3em;box-sizing: border-box;text-align: center;}#sk-eb8d9cc7-5572-41a6-974f-10ec5937a3bf label.sk-toggleable__label-arrow:before {content: \"▸\";float: left;margin-right: 0.25em;color: #696969;}#sk-eb8d9cc7-5572-41a6-974f-10ec5937a3bf label.sk-toggleable__label-arrow:hover:before {color: black;}#sk-eb8d9cc7-5572-41a6-974f-10ec5937a3bf div.sk-estimator:hover label.sk-toggleable__label-arrow:before {color: black;}#sk-eb8d9cc7-5572-41a6-974f-10ec5937a3bf div.sk-toggleable__content {max-height: 0;max-width: 0;overflow: hidden;text-align: left;background-color: #f0f8ff;}#sk-eb8d9cc7-5572-41a6-974f-10ec5937a3bf div.sk-toggleable__content pre {margin: 0.2em;color: black;border-radius: 0.25em;background-color: #f0f8ff;}#sk-eb8d9cc7-5572-41a6-974f-10ec5937a3bf input.sk-toggleable__control:checked~div.sk-toggleable__content {max-height: 200px;max-width: 100%;overflow: auto;}#sk-eb8d9cc7-5572-41a6-974f-10ec5937a3bf input.sk-toggleable__control:checked~label.sk-toggleable__label-arrow:before {content: \"▾\";}#sk-eb8d9cc7-5572-41a6-974f-10ec5937a3bf div.sk-estimator input.sk-toggleable__control:checked~label.sk-toggleable__label {background-color: #d4ebff;}#sk-eb8d9cc7-5572-41a6-974f-10ec5937a3bf div.sk-label input.sk-toggleable__control:checked~label.sk-toggleable__label {background-color: #d4ebff;}#sk-eb8d9cc7-5572-41a6-974f-10ec5937a3bf input.sk-hidden--visually {border: 0;clip: rect(1px 1px 1px 1px);clip: rect(1px, 1px, 1px, 1px);height: 1px;margin: -1px;overflow: hidden;padding: 0;position: absolute;width: 1px;}#sk-eb8d9cc7-5572-41a6-974f-10ec5937a3bf div.sk-estimator {font-family: monospace;background-color: #f0f8ff;border: 1px dotted black;border-radius: 0.25em;box-sizing: border-box;margin-bottom: 0.5em;}#sk-eb8d9cc7-5572-41a6-974f-10ec5937a3bf div.sk-estimator:hover {background-color: #d4ebff;}#sk-eb8d9cc7-5572-41a6-974f-10ec5937a3bf div.sk-parallel-item::after {content: \"\";width: 100%;border-bottom: 1px solid gray;flex-grow: 1;}#sk-eb8d9cc7-5572-41a6-974f-10ec5937a3bf div.sk-label:hover label.sk-toggleable__label {background-color: #d4ebff;}#sk-eb8d9cc7-5572-41a6-974f-10ec5937a3bf div.sk-serial::before {content: \"\";position: absolute;border-left: 1px solid gray;box-sizing: border-box;top: 2em;bottom: 0;left: 50%;}#sk-eb8d9cc7-5572-41a6-974f-10ec5937a3bf div.sk-serial {display: flex;flex-direction: column;align-items: center;background-color: white;padding-right: 0.2em;padding-left: 0.2em;}#sk-eb8d9cc7-5572-41a6-974f-10ec5937a3bf div.sk-item {z-index: 1;}#sk-eb8d9cc7-5572-41a6-974f-10ec5937a3bf div.sk-parallel {display: flex;align-items: stretch;justify-content: center;background-color: white;}#sk-eb8d9cc7-5572-41a6-974f-10ec5937a3bf div.sk-parallel::before {content: \"\";position: absolute;border-left: 1px solid gray;box-sizing: border-box;top: 2em;bottom: 0;left: 50%;}#sk-eb8d9cc7-5572-41a6-974f-10ec5937a3bf div.sk-parallel-item {display: flex;flex-direction: column;position: relative;background-color: white;}#sk-eb8d9cc7-5572-41a6-974f-10ec5937a3bf div.sk-parallel-item:first-child::after {align-self: flex-end;width: 50%;}#sk-eb8d9cc7-5572-41a6-974f-10ec5937a3bf div.sk-parallel-item:last-child::after {align-self: flex-start;width: 50%;}#sk-eb8d9cc7-5572-41a6-974f-10ec5937a3bf div.sk-parallel-item:only-child::after {width: 0;}#sk-eb8d9cc7-5572-41a6-974f-10ec5937a3bf div.sk-dashed-wrapped {border: 1px dashed gray;margin: 0 0.4em 0.5em 0.4em;box-sizing: border-box;padding-bottom: 0.4em;background-color: white;position: relative;}#sk-eb8d9cc7-5572-41a6-974f-10ec5937a3bf div.sk-label label {font-family: monospace;font-weight: bold;background-color: white;display: inline-block;line-height: 1.2em;}#sk-eb8d9cc7-5572-41a6-974f-10ec5937a3bf div.sk-label-container {position: relative;z-index: 2;text-align: center;}#sk-eb8d9cc7-5572-41a6-974f-10ec5937a3bf div.sk-container {/* jupyter's `normalize.less` sets `[hidden] { display: none; }` but bootstrap.min.css set `[hidden] { display: none !important; }` so we also need the `!important` here to be able to override the default hidden behavior on the sphinx rendered scikit-learn.org. See: https://github.com/scikit-learn/scikit-learn/issues/21755 */display: inline-block !important;position: relative;}#sk-eb8d9cc7-5572-41a6-974f-10ec5937a3bf div.sk-text-repr-fallback {display: none;}</style><div id=\"sk-eb8d9cc7-5572-41a6-974f-10ec5937a3bf\" class=\"sk-top-container\"><div class=\"sk-text-repr-fallback\"><pre>ColumnTransformer(remainder=&#x27;passthrough&#x27;,\n",
       "                  transformers=[(&#x27;imp_age&#x27;, SimpleImputer(), [2]),\n",
       "                                (&#x27;imp_embarked&#x27;,\n",
       "                                 SimpleImputer(strategy=&#x27;most_frequent&#x27;),\n",
       "                                 [6])])</pre><b>Please rerun this cell to show the HTML repr or trust the notebook.</b></div><div class=\"sk-container\" hidden><div class=\"sk-item sk-dashed-wrapped\"><div class=\"sk-label-container\"><div class=\"sk-label sk-toggleable\"><input class=\"sk-toggleable__control sk-hidden--visually\" id=\"2173f715-b824-4816-bab0-e16248828ea6\" type=\"checkbox\" ><label for=\"2173f715-b824-4816-bab0-e16248828ea6\" class=\"sk-toggleable__label sk-toggleable__label-arrow\">ColumnTransformer</label><div class=\"sk-toggleable__content\"><pre>ColumnTransformer(remainder=&#x27;passthrough&#x27;,\n",
       "                  transformers=[(&#x27;imp_age&#x27;, SimpleImputer(), [2]),\n",
       "                                (&#x27;imp_embarked&#x27;,\n",
       "                                 SimpleImputer(strategy=&#x27;most_frequent&#x27;),\n",
       "                                 [6])])</pre></div></div></div><div class=\"sk-parallel\"><div class=\"sk-parallel-item\"><div class=\"sk-item\"><div class=\"sk-label-container\"><div class=\"sk-label sk-toggleable\"><input class=\"sk-toggleable__control sk-hidden--visually\" id=\"8aaf57b5-8a08-4a5f-b0d7-72f538b557a1\" type=\"checkbox\" ><label for=\"8aaf57b5-8a08-4a5f-b0d7-72f538b557a1\" class=\"sk-toggleable__label sk-toggleable__label-arrow\">imp_age</label><div class=\"sk-toggleable__content\"><pre>[2]</pre></div></div></div><div class=\"sk-serial\"><div class=\"sk-item\"><div class=\"sk-estimator sk-toggleable\"><input class=\"sk-toggleable__control sk-hidden--visually\" id=\"3206ea57-7a10-485c-98bf-780bc95f34b1\" type=\"checkbox\" ><label for=\"3206ea57-7a10-485c-98bf-780bc95f34b1\" class=\"sk-toggleable__label sk-toggleable__label-arrow\">SimpleImputer</label><div class=\"sk-toggleable__content\"><pre>SimpleImputer()</pre></div></div></div></div></div></div><div class=\"sk-parallel-item\"><div class=\"sk-item\"><div class=\"sk-label-container\"><div class=\"sk-label sk-toggleable\"><input class=\"sk-toggleable__control sk-hidden--visually\" id=\"61969e73-011c-4f07-a6de-96ece2acb79c\" type=\"checkbox\" ><label for=\"61969e73-011c-4f07-a6de-96ece2acb79c\" class=\"sk-toggleable__label sk-toggleable__label-arrow\">imp_embarked</label><div class=\"sk-toggleable__content\"><pre>[6]</pre></div></div></div><div class=\"sk-serial\"><div class=\"sk-item\"><div class=\"sk-estimator sk-toggleable\"><input class=\"sk-toggleable__control sk-hidden--visually\" id=\"186ca46a-2e0e-40b8-8f48-6e98ef2a34e0\" type=\"checkbox\" ><label for=\"186ca46a-2e0e-40b8-8f48-6e98ef2a34e0\" class=\"sk-toggleable__label sk-toggleable__label-arrow\">SimpleImputer</label><div class=\"sk-toggleable__content\"><pre>SimpleImputer(strategy=&#x27;most_frequent&#x27;)</pre></div></div></div></div></div></div><div class=\"sk-parallel-item\"><div class=\"sk-item\"><div class=\"sk-label-container\"><div class=\"sk-label sk-toggleable\"><input class=\"sk-toggleable__control sk-hidden--visually\" id=\"de5f90aa-e69f-41fd-8c67-cde8fd8adc84\" type=\"checkbox\" ><label for=\"de5f90aa-e69f-41fd-8c67-cde8fd8adc84\" class=\"sk-toggleable__label sk-toggleable__label-arrow\">remainder</label><div class=\"sk-toggleable__content\"><pre>[&#x27;Pclass&#x27;, &#x27;Sex&#x27;, &#x27;SibSp&#x27;, &#x27;Parch&#x27;, &#x27;Fare&#x27;]</pre></div></div></div><div class=\"sk-serial\"><div class=\"sk-item\"><div class=\"sk-estimator sk-toggleable\"><input class=\"sk-toggleable__control sk-hidden--visually\" id=\"94a07e4e-eeaa-476b-b24b-f134526a4fb5\" type=\"checkbox\" ><label for=\"94a07e4e-eeaa-476b-b24b-f134526a4fb5\" class=\"sk-toggleable__label sk-toggleable__label-arrow\">passthrough</label><div class=\"sk-toggleable__content\"><pre>passthrough</pre></div></div></div></div></div></div></div></div></div></div>"
      ],
      "text/plain": [
       "ColumnTransformer(remainder='passthrough',\n",
       "                  transformers=[('imp_age', SimpleImputer(), [2]),\n",
       "                                ('imp_embarked',\n",
       "                                 SimpleImputer(strategy='most_frequent'),\n",
       "                                 [6])])"
      ]
     },
     "execution_count": 22,
     "metadata": {},
     "output_type": "execute_result"
    }
   ],
   "source": [
    "pipe.named_steps['trf1']"
   ]
  },
  {
   "cell_type": "code",
   "execution_count": 24,
   "id": "1e6ec75d",
   "metadata": {},
   "outputs": [
    {
     "data": {
      "text/plain": [
       "[('imp_age', SimpleImputer(), [2]),\n",
       " ('imp_embarked', SimpleImputer(strategy='most_frequent'), [6]),\n",
       " ('remainder', 'passthrough', [0, 1, 3, 4, 5])]"
      ]
     },
     "execution_count": 24,
     "metadata": {},
     "output_type": "execute_result"
    }
   ],
   "source": [
    "pipe.named_steps['trf1'].transformers_"
   ]
  },
  {
   "cell_type": "code",
   "execution_count": 28,
   "id": "4263d869",
   "metadata": {},
   "outputs": [
    {
     "data": {
      "text/plain": [
       "array([29.49884615])"
      ]
     },
     "execution_count": 28,
     "metadata": {},
     "output_type": "execute_result"
    }
   ],
   "source": [
    "pipe.named_steps['trf1'].transformers_[0][1].statistics_"
   ]
  },
  {
   "cell_type": "code",
   "execution_count": 29,
   "id": "b49bcddd",
   "metadata": {},
   "outputs": [
    {
     "data": {
      "text/plain": [
       "array(['S'], dtype=object)"
      ]
     },
     "execution_count": 29,
     "metadata": {},
     "output_type": "execute_result"
    }
   ],
   "source": [
    "pipe.named_steps['trf1'].transformers_[1][1].statistics_"
   ]
  },
  {
   "cell_type": "markdown",
   "id": "4aeaf9ee",
   "metadata": {},
   "source": [
    "### Predict"
   ]
  },
  {
   "cell_type": "code",
   "execution_count": 38,
   "id": "8f69c7d5",
   "metadata": {},
   "outputs": [
    {
     "data": {
      "text/plain": [
       "array([1, 0, 0, 0, 1, 0, 0, 0, 0, 0, 0, 0, 0, 1, 0, 0, 0, 0, 0, 0, 0, 0,\n",
       "       0, 0, 0, 0, 1, 0, 0, 0, 0, 0, 1, 0, 0, 1, 0, 0, 1, 0, 0, 0, 0, 0,\n",
       "       1, 0, 0, 0, 0, 1, 1, 0, 0, 0, 0, 0, 0, 1, 0, 0, 0, 0, 0, 0, 0, 0,\n",
       "       0, 0, 1, 1, 0, 1, 1, 1, 0, 0, 0, 1, 0, 0, 0, 0, 1, 0, 1, 1, 1, 1,\n",
       "       0, 0, 0, 0, 0, 0, 0, 0, 0, 0, 0, 0, 0, 0, 1, 0, 0, 0, 0, 0, 0, 1,\n",
       "       0, 0, 1, 0, 0, 0, 1, 1, 0, 0, 0, 1, 0, 0, 0, 1, 0, 1, 1, 0, 0, 1,\n",
       "       0, 0, 1, 1, 1, 0, 0, 0, 0, 0, 0, 0, 0, 0, 0, 0, 1, 0, 1, 0, 0, 0,\n",
       "       0, 0, 0, 0, 0, 0, 1, 0, 0, 1, 0, 1, 0, 0, 0, 0, 1, 0, 0, 1, 0, 1,\n",
       "       0, 0, 0], dtype=int64)"
      ]
     },
     "execution_count": 38,
     "metadata": {},
     "output_type": "execute_result"
    }
   ],
   "source": [
    "y_pred = pipe.predict(x_test)\n",
    "y_pred"
   ]
  },
  {
   "cell_type": "code",
   "execution_count": 39,
   "id": "4ae03d96",
   "metadata": {},
   "outputs": [
    {
     "data": {
      "text/plain": [
       "0.6256983240223464"
      ]
     },
     "execution_count": 39,
     "metadata": {},
     "output_type": "execute_result"
    }
   ],
   "source": [
    "from sklearn.metrics import accuracy_score\n",
    "accuracy_score(y_test,y_pred)"
   ]
  },
  {
   "cell_type": "markdown",
   "id": "7b320000",
   "metadata": {},
   "source": [
    "### Cross Validation using Pipeline"
   ]
  },
  {
   "cell_type": "code",
   "execution_count": 40,
   "id": "60d3919d",
   "metadata": {},
   "outputs": [
    {
     "data": {
      "text/plain": [
       "0.6391214419383433"
      ]
     },
     "execution_count": 40,
     "metadata": {},
     "output_type": "execute_result"
    }
   ],
   "source": [
    "#cross validation using cross_val_score\n",
    "from sklearn.model_selection import cross_val_score\n",
    "cross_val_score(pipe,x_train,y_train,cv=5,scoring='accuracy').mean()"
   ]
  },
  {
   "cell_type": "markdown",
   "id": "9cd2e3cd",
   "metadata": {},
   "source": [
    "### GridSearch using Pipeline"
   ]
  },
  {
   "cell_type": "code",
   "execution_count": 45,
   "id": "73bd225c",
   "metadata": {},
   "outputs": [],
   "source": [
    "#gridsearchcv\n",
    "params = {\n",
    "    'trf5__max_depth' : [1,2,3,4,5,None]\n",
    "}"
   ]
  },
  {
   "cell_type": "markdown",
   "id": "3d49df31",
   "metadata": {},
   "source": [
    "In the above code trf5__ double underscore is required to specify the parameters"
   ]
  },
  {
   "cell_type": "code",
   "execution_count": 46,
   "id": "5475982b",
   "metadata": {},
   "outputs": [
    {
     "data": {
      "text/html": [
       "<style>#sk-1d9567a8-d232-4fb1-91be-51f697116d40 {color: black;background-color: white;}#sk-1d9567a8-d232-4fb1-91be-51f697116d40 pre{padding: 0;}#sk-1d9567a8-d232-4fb1-91be-51f697116d40 div.sk-toggleable {background-color: white;}#sk-1d9567a8-d232-4fb1-91be-51f697116d40 label.sk-toggleable__label {cursor: pointer;display: block;width: 100%;margin-bottom: 0;padding: 0.3em;box-sizing: border-box;text-align: center;}#sk-1d9567a8-d232-4fb1-91be-51f697116d40 label.sk-toggleable__label-arrow:before {content: \"▸\";float: left;margin-right: 0.25em;color: #696969;}#sk-1d9567a8-d232-4fb1-91be-51f697116d40 label.sk-toggleable__label-arrow:hover:before {color: black;}#sk-1d9567a8-d232-4fb1-91be-51f697116d40 div.sk-estimator:hover label.sk-toggleable__label-arrow:before {color: black;}#sk-1d9567a8-d232-4fb1-91be-51f697116d40 div.sk-toggleable__content {max-height: 0;max-width: 0;overflow: hidden;text-align: left;background-color: #f0f8ff;}#sk-1d9567a8-d232-4fb1-91be-51f697116d40 div.sk-toggleable__content pre {margin: 0.2em;color: black;border-radius: 0.25em;background-color: #f0f8ff;}#sk-1d9567a8-d232-4fb1-91be-51f697116d40 input.sk-toggleable__control:checked~div.sk-toggleable__content {max-height: 200px;max-width: 100%;overflow: auto;}#sk-1d9567a8-d232-4fb1-91be-51f697116d40 input.sk-toggleable__control:checked~label.sk-toggleable__label-arrow:before {content: \"▾\";}#sk-1d9567a8-d232-4fb1-91be-51f697116d40 div.sk-estimator input.sk-toggleable__control:checked~label.sk-toggleable__label {background-color: #d4ebff;}#sk-1d9567a8-d232-4fb1-91be-51f697116d40 div.sk-label input.sk-toggleable__control:checked~label.sk-toggleable__label {background-color: #d4ebff;}#sk-1d9567a8-d232-4fb1-91be-51f697116d40 input.sk-hidden--visually {border: 0;clip: rect(1px 1px 1px 1px);clip: rect(1px, 1px, 1px, 1px);height: 1px;margin: -1px;overflow: hidden;padding: 0;position: absolute;width: 1px;}#sk-1d9567a8-d232-4fb1-91be-51f697116d40 div.sk-estimator {font-family: monospace;background-color: #f0f8ff;border: 1px dotted black;border-radius: 0.25em;box-sizing: border-box;margin-bottom: 0.5em;}#sk-1d9567a8-d232-4fb1-91be-51f697116d40 div.sk-estimator:hover {background-color: #d4ebff;}#sk-1d9567a8-d232-4fb1-91be-51f697116d40 div.sk-parallel-item::after {content: \"\";width: 100%;border-bottom: 1px solid gray;flex-grow: 1;}#sk-1d9567a8-d232-4fb1-91be-51f697116d40 div.sk-label:hover label.sk-toggleable__label {background-color: #d4ebff;}#sk-1d9567a8-d232-4fb1-91be-51f697116d40 div.sk-serial::before {content: \"\";position: absolute;border-left: 1px solid gray;box-sizing: border-box;top: 2em;bottom: 0;left: 50%;}#sk-1d9567a8-d232-4fb1-91be-51f697116d40 div.sk-serial {display: flex;flex-direction: column;align-items: center;background-color: white;padding-right: 0.2em;padding-left: 0.2em;}#sk-1d9567a8-d232-4fb1-91be-51f697116d40 div.sk-item {z-index: 1;}#sk-1d9567a8-d232-4fb1-91be-51f697116d40 div.sk-parallel {display: flex;align-items: stretch;justify-content: center;background-color: white;}#sk-1d9567a8-d232-4fb1-91be-51f697116d40 div.sk-parallel::before {content: \"\";position: absolute;border-left: 1px solid gray;box-sizing: border-box;top: 2em;bottom: 0;left: 50%;}#sk-1d9567a8-d232-4fb1-91be-51f697116d40 div.sk-parallel-item {display: flex;flex-direction: column;position: relative;background-color: white;}#sk-1d9567a8-d232-4fb1-91be-51f697116d40 div.sk-parallel-item:first-child::after {align-self: flex-end;width: 50%;}#sk-1d9567a8-d232-4fb1-91be-51f697116d40 div.sk-parallel-item:last-child::after {align-self: flex-start;width: 50%;}#sk-1d9567a8-d232-4fb1-91be-51f697116d40 div.sk-parallel-item:only-child::after {width: 0;}#sk-1d9567a8-d232-4fb1-91be-51f697116d40 div.sk-dashed-wrapped {border: 1px dashed gray;margin: 0 0.4em 0.5em 0.4em;box-sizing: border-box;padding-bottom: 0.4em;background-color: white;position: relative;}#sk-1d9567a8-d232-4fb1-91be-51f697116d40 div.sk-label label {font-family: monospace;font-weight: bold;background-color: white;display: inline-block;line-height: 1.2em;}#sk-1d9567a8-d232-4fb1-91be-51f697116d40 div.sk-label-container {position: relative;z-index: 2;text-align: center;}#sk-1d9567a8-d232-4fb1-91be-51f697116d40 div.sk-container {/* jupyter's `normalize.less` sets `[hidden] { display: none; }` but bootstrap.min.css set `[hidden] { display: none !important; }` so we also need the `!important` here to be able to override the default hidden behavior on the sphinx rendered scikit-learn.org. See: https://github.com/scikit-learn/scikit-learn/issues/21755 */display: inline-block !important;position: relative;}#sk-1d9567a8-d232-4fb1-91be-51f697116d40 div.sk-text-repr-fallback {display: none;}</style><div id=\"sk-1d9567a8-d232-4fb1-91be-51f697116d40\" class=\"sk-top-container\"><div class=\"sk-text-repr-fallback\"><pre>GridSearchCV(cv=5,\n",
       "             estimator=Pipeline(steps=[(&#x27;trf1&#x27;,\n",
       "                                        ColumnTransformer(remainder=&#x27;passthrough&#x27;,\n",
       "                                                          transformers=[(&#x27;imp_age&#x27;,\n",
       "                                                                         SimpleImputer(),\n",
       "                                                                         [2]),\n",
       "                                                                        (&#x27;imp_embarked&#x27;,\n",
       "                                                                         SimpleImputer(strategy=&#x27;most_frequent&#x27;),\n",
       "                                                                         [6])])),\n",
       "                                       (&#x27;trf2&#x27;,\n",
       "                                        ColumnTransformer(remainder=&#x27;passthrough&#x27;,\n",
       "                                                          transformers=[(&#x27;ohe_sex_embarked&#x27;,\n",
       "                                                                         OneHotEncoder(handle_unknown=&#x27;ignore&#x27;,\n",
       "                                                                                       sparse=False),\n",
       "                                                                         [1,\n",
       "                                                                          6])])),\n",
       "                                       (&#x27;trf3&#x27;,\n",
       "                                        ColumnTransformer(transformers=[(&#x27;scale&#x27;,\n",
       "                                                                         MinMaxScaler(),\n",
       "                                                                         slice(0, 10, None))])),\n",
       "                                       (&#x27;trf4&#x27;,\n",
       "                                        SelectKBest(k=8,\n",
       "                                                    score_func=&lt;function chi2 at 0x0000018B7FC42CA0&gt;)),\n",
       "                                       (&#x27;trf5&#x27;, DecisionTreeClassifier())]),\n",
       "             param_grid={&#x27;trf5__max_depth&#x27;: [1, 2, 3, 4, 5, None]},\n",
       "             scoring=&#x27;accuracy&#x27;)</pre><b>Please rerun this cell to show the HTML repr or trust the notebook.</b></div><div class=\"sk-container\" hidden><div class=\"sk-item sk-dashed-wrapped\"><div class=\"sk-label-container\"><div class=\"sk-label sk-toggleable\"><input class=\"sk-toggleable__control sk-hidden--visually\" id=\"8d8aaa93-7c54-433d-8131-7b679635aeb9\" type=\"checkbox\" ><label for=\"8d8aaa93-7c54-433d-8131-7b679635aeb9\" class=\"sk-toggleable__label sk-toggleable__label-arrow\">GridSearchCV</label><div class=\"sk-toggleable__content\"><pre>GridSearchCV(cv=5,\n",
       "             estimator=Pipeline(steps=[(&#x27;trf1&#x27;,\n",
       "                                        ColumnTransformer(remainder=&#x27;passthrough&#x27;,\n",
       "                                                          transformers=[(&#x27;imp_age&#x27;,\n",
       "                                                                         SimpleImputer(),\n",
       "                                                                         [2]),\n",
       "                                                                        (&#x27;imp_embarked&#x27;,\n",
       "                                                                         SimpleImputer(strategy=&#x27;most_frequent&#x27;),\n",
       "                                                                         [6])])),\n",
       "                                       (&#x27;trf2&#x27;,\n",
       "                                        ColumnTransformer(remainder=&#x27;passthrough&#x27;,\n",
       "                                                          transformers=[(&#x27;ohe_sex_embarked&#x27;,\n",
       "                                                                         OneHotEncoder(handle_unknown=&#x27;ignore&#x27;,\n",
       "                                                                                       sparse=False),\n",
       "                                                                         [1,\n",
       "                                                                          6])])),\n",
       "                                       (&#x27;trf3&#x27;,\n",
       "                                        ColumnTransformer(transformers=[(&#x27;scale&#x27;,\n",
       "                                                                         MinMaxScaler(),\n",
       "                                                                         slice(0, 10, None))])),\n",
       "                                       (&#x27;trf4&#x27;,\n",
       "                                        SelectKBest(k=8,\n",
       "                                                    score_func=&lt;function chi2 at 0x0000018B7FC42CA0&gt;)),\n",
       "                                       (&#x27;trf5&#x27;, DecisionTreeClassifier())]),\n",
       "             param_grid={&#x27;trf5__max_depth&#x27;: [1, 2, 3, 4, 5, None]},\n",
       "             scoring=&#x27;accuracy&#x27;)</pre></div></div></div><div class=\"sk-parallel\"><div class=\"sk-parallel-item\"><div class=\"sk-item\"><div class=\"sk-serial\"><div class=\"sk-item\"><div class=\"sk-serial\"><div class=\"sk-item sk-dashed-wrapped\"><div class=\"sk-label-container\"><div class=\"sk-label sk-toggleable\"><input class=\"sk-toggleable__control sk-hidden--visually\" id=\"c855a417-04ac-4eef-8a29-b07724f40e6f\" type=\"checkbox\" ><label for=\"c855a417-04ac-4eef-8a29-b07724f40e6f\" class=\"sk-toggleable__label sk-toggleable__label-arrow\">trf1: ColumnTransformer</label><div class=\"sk-toggleable__content\"><pre>ColumnTransformer(remainder=&#x27;passthrough&#x27;,\n",
       "                  transformers=[(&#x27;imp_age&#x27;, SimpleImputer(), [2]),\n",
       "                                (&#x27;imp_embarked&#x27;,\n",
       "                                 SimpleImputer(strategy=&#x27;most_frequent&#x27;),\n",
       "                                 [6])])</pre></div></div></div><div class=\"sk-parallel\"><div class=\"sk-parallel-item\"><div class=\"sk-item\"><div class=\"sk-label-container\"><div class=\"sk-label sk-toggleable\"><input class=\"sk-toggleable__control sk-hidden--visually\" id=\"598c2202-d742-4cac-a447-35c13a54f450\" type=\"checkbox\" ><label for=\"598c2202-d742-4cac-a447-35c13a54f450\" class=\"sk-toggleable__label sk-toggleable__label-arrow\">imp_age</label><div class=\"sk-toggleable__content\"><pre>[2]</pre></div></div></div><div class=\"sk-serial\"><div class=\"sk-item\"><div class=\"sk-estimator sk-toggleable\"><input class=\"sk-toggleable__control sk-hidden--visually\" id=\"784126c0-6887-4be2-8c40-3c9c42c8ad63\" type=\"checkbox\" ><label for=\"784126c0-6887-4be2-8c40-3c9c42c8ad63\" class=\"sk-toggleable__label sk-toggleable__label-arrow\">SimpleImputer</label><div class=\"sk-toggleable__content\"><pre>SimpleImputer()</pre></div></div></div></div></div></div><div class=\"sk-parallel-item\"><div class=\"sk-item\"><div class=\"sk-label-container\"><div class=\"sk-label sk-toggleable\"><input class=\"sk-toggleable__control sk-hidden--visually\" id=\"821c8438-ed7a-49d5-a915-b4965f96f875\" type=\"checkbox\" ><label for=\"821c8438-ed7a-49d5-a915-b4965f96f875\" class=\"sk-toggleable__label sk-toggleable__label-arrow\">imp_embarked</label><div class=\"sk-toggleable__content\"><pre>[6]</pre></div></div></div><div class=\"sk-serial\"><div class=\"sk-item\"><div class=\"sk-estimator sk-toggleable\"><input class=\"sk-toggleable__control sk-hidden--visually\" id=\"23527479-dbc6-4efc-8600-bb90f5b0c1cd\" type=\"checkbox\" ><label for=\"23527479-dbc6-4efc-8600-bb90f5b0c1cd\" class=\"sk-toggleable__label sk-toggleable__label-arrow\">SimpleImputer</label><div class=\"sk-toggleable__content\"><pre>SimpleImputer(strategy=&#x27;most_frequent&#x27;)</pre></div></div></div></div></div></div><div class=\"sk-parallel-item\"><div class=\"sk-item\"><div class=\"sk-label-container\"><div class=\"sk-label sk-toggleable\"><input class=\"sk-toggleable__control sk-hidden--visually\" id=\"b8fa44d4-2ac7-4f6c-8113-07a9fd578411\" type=\"checkbox\" ><label for=\"b8fa44d4-2ac7-4f6c-8113-07a9fd578411\" class=\"sk-toggleable__label sk-toggleable__label-arrow\">remainder</label><div class=\"sk-toggleable__content\"><pre>[&#x27;Pclass&#x27;, &#x27;Sex&#x27;, &#x27;SibSp&#x27;, &#x27;Parch&#x27;, &#x27;Fare&#x27;]</pre></div></div></div><div class=\"sk-serial\"><div class=\"sk-item\"><div class=\"sk-estimator sk-toggleable\"><input class=\"sk-toggleable__control sk-hidden--visually\" id=\"718bbff9-f0af-4f97-a17f-fb33bc4e580d\" type=\"checkbox\" ><label for=\"718bbff9-f0af-4f97-a17f-fb33bc4e580d\" class=\"sk-toggleable__label sk-toggleable__label-arrow\">passthrough</label><div class=\"sk-toggleable__content\"><pre>passthrough</pre></div></div></div></div></div></div></div></div><div class=\"sk-item sk-dashed-wrapped\"><div class=\"sk-label-container\"><div class=\"sk-label sk-toggleable\"><input class=\"sk-toggleable__control sk-hidden--visually\" id=\"36656b0e-5837-467d-ad3f-ed300473972d\" type=\"checkbox\" ><label for=\"36656b0e-5837-467d-ad3f-ed300473972d\" class=\"sk-toggleable__label sk-toggleable__label-arrow\">trf2: ColumnTransformer</label><div class=\"sk-toggleable__content\"><pre>ColumnTransformer(remainder=&#x27;passthrough&#x27;,\n",
       "                  transformers=[(&#x27;ohe_sex_embarked&#x27;,\n",
       "                                 OneHotEncoder(handle_unknown=&#x27;ignore&#x27;,\n",
       "                                               sparse=False),\n",
       "                                 [1, 6])])</pre></div></div></div><div class=\"sk-parallel\"><div class=\"sk-parallel-item\"><div class=\"sk-item\"><div class=\"sk-label-container\"><div class=\"sk-label sk-toggleable\"><input class=\"sk-toggleable__control sk-hidden--visually\" id=\"ec84bd24-0249-4e48-b321-6981aa573f40\" type=\"checkbox\" ><label for=\"ec84bd24-0249-4e48-b321-6981aa573f40\" class=\"sk-toggleable__label sk-toggleable__label-arrow\">ohe_sex_embarked</label><div class=\"sk-toggleable__content\"><pre>[1, 6]</pre></div></div></div><div class=\"sk-serial\"><div class=\"sk-item\"><div class=\"sk-estimator sk-toggleable\"><input class=\"sk-toggleable__control sk-hidden--visually\" id=\"17d2254f-b369-4625-8602-4cb7baaf314a\" type=\"checkbox\" ><label for=\"17d2254f-b369-4625-8602-4cb7baaf314a\" class=\"sk-toggleable__label sk-toggleable__label-arrow\">OneHotEncoder</label><div class=\"sk-toggleable__content\"><pre>OneHotEncoder(handle_unknown=&#x27;ignore&#x27;, sparse=False)</pre></div></div></div></div></div></div><div class=\"sk-parallel-item\"><div class=\"sk-item\"><div class=\"sk-label-container\"><div class=\"sk-label sk-toggleable\"><input class=\"sk-toggleable__control sk-hidden--visually\" id=\"a4a1bc10-8c7f-40ae-8994-b47eb906dcb5\" type=\"checkbox\" ><label for=\"a4a1bc10-8c7f-40ae-8994-b47eb906dcb5\" class=\"sk-toggleable__label sk-toggleable__label-arrow\">remainder</label><div class=\"sk-toggleable__content\"><pre>[0, 2, 3, 4, 5]</pre></div></div></div><div class=\"sk-serial\"><div class=\"sk-item\"><div class=\"sk-estimator sk-toggleable\"><input class=\"sk-toggleable__control sk-hidden--visually\" id=\"642911fa-24cd-49ff-a2e7-ea187db5d9aa\" type=\"checkbox\" ><label for=\"642911fa-24cd-49ff-a2e7-ea187db5d9aa\" class=\"sk-toggleable__label sk-toggleable__label-arrow\">passthrough</label><div class=\"sk-toggleable__content\"><pre>passthrough</pre></div></div></div></div></div></div></div></div><div class=\"sk-item sk-dashed-wrapped\"><div class=\"sk-label-container\"><div class=\"sk-label sk-toggleable\"><input class=\"sk-toggleable__control sk-hidden--visually\" id=\"f216750a-cc51-4e43-81c8-207b326a62cb\" type=\"checkbox\" ><label for=\"f216750a-cc51-4e43-81c8-207b326a62cb\" class=\"sk-toggleable__label sk-toggleable__label-arrow\">trf3: ColumnTransformer</label><div class=\"sk-toggleable__content\"><pre>ColumnTransformer(transformers=[(&#x27;scale&#x27;, MinMaxScaler(), slice(0, 10, None))])</pre></div></div></div><div class=\"sk-parallel\"><div class=\"sk-parallel-item\"><div class=\"sk-item\"><div class=\"sk-label-container\"><div class=\"sk-label sk-toggleable\"><input class=\"sk-toggleable__control sk-hidden--visually\" id=\"33aaaa44-0e1c-44f6-bbd7-452cbb957540\" type=\"checkbox\" ><label for=\"33aaaa44-0e1c-44f6-bbd7-452cbb957540\" class=\"sk-toggleable__label sk-toggleable__label-arrow\">scale</label><div class=\"sk-toggleable__content\"><pre>slice(0, 10, None)</pre></div></div></div><div class=\"sk-serial\"><div class=\"sk-item\"><div class=\"sk-estimator sk-toggleable\"><input class=\"sk-toggleable__control sk-hidden--visually\" id=\"18afa713-370d-4205-b2cf-daa9d0546aeb\" type=\"checkbox\" ><label for=\"18afa713-370d-4205-b2cf-daa9d0546aeb\" class=\"sk-toggleable__label sk-toggleable__label-arrow\">MinMaxScaler</label><div class=\"sk-toggleable__content\"><pre>MinMaxScaler()</pre></div></div></div></div></div></div></div></div><div class=\"sk-item\"><div class=\"sk-estimator sk-toggleable\"><input class=\"sk-toggleable__control sk-hidden--visually\" id=\"660a79c2-c336-4ecb-8ebd-d0aa46dfe803\" type=\"checkbox\" ><label for=\"660a79c2-c336-4ecb-8ebd-d0aa46dfe803\" class=\"sk-toggleable__label sk-toggleable__label-arrow\">SelectKBest</label><div class=\"sk-toggleable__content\"><pre>SelectKBest(k=8, score_func=&lt;function chi2 at 0x0000018B7FC42CA0&gt;)</pre></div></div></div><div class=\"sk-item\"><div class=\"sk-estimator sk-toggleable\"><input class=\"sk-toggleable__control sk-hidden--visually\" id=\"18f67bfb-e080-4f84-b1dd-55d1c4839ace\" type=\"checkbox\" ><label for=\"18f67bfb-e080-4f84-b1dd-55d1c4839ace\" class=\"sk-toggleable__label sk-toggleable__label-arrow\">DecisionTreeClassifier</label><div class=\"sk-toggleable__content\"><pre>DecisionTreeClassifier()</pre></div></div></div></div></div></div></div></div></div></div></div></div>"
      ],
      "text/plain": [
       "GridSearchCV(cv=5,\n",
       "             estimator=Pipeline(steps=[('trf1',\n",
       "                                        ColumnTransformer(remainder='passthrough',\n",
       "                                                          transformers=[('imp_age',\n",
       "                                                                         SimpleImputer(),\n",
       "                                                                         [2]),\n",
       "                                                                        ('imp_embarked',\n",
       "                                                                         SimpleImputer(strategy='most_frequent'),\n",
       "                                                                         [6])])),\n",
       "                                       ('trf2',\n",
       "                                        ColumnTransformer(remainder='passthrough',\n",
       "                                                          transformers=[('ohe_sex_embarked',\n",
       "                                                                         OneHotEncoder(handle_unknown='ignore',\n",
       "                                                                                       sparse=False),\n",
       "                                                                         [1,\n",
       "                                                                          6])])),\n",
       "                                       ('trf3',\n",
       "                                        ColumnTransformer(transformers=[('scale',\n",
       "                                                                         MinMaxScaler(),\n",
       "                                                                         slice(0, 10, None))])),\n",
       "                                       ('trf4',\n",
       "                                        SelectKBest(k=8,\n",
       "                                                    score_func=<function chi2 at 0x0000018B7FC42CA0>)),\n",
       "                                       ('trf5', DecisionTreeClassifier())]),\n",
       "             param_grid={'trf5__max_depth': [1, 2, 3, 4, 5, None]},\n",
       "             scoring='accuracy')"
      ]
     },
     "execution_count": 46,
     "metadata": {},
     "output_type": "execute_result"
    }
   ],
   "source": [
    "from sklearn.model_selection import GridSearchCV\n",
    "grid = GridSearchCV(pipe,params,cv=5,scoring='accuracy')\n",
    "grid.fit(x_train,y_train)"
   ]
  },
  {
   "cell_type": "code",
   "execution_count": 47,
   "id": "11280ca9",
   "metadata": {},
   "outputs": [
    {
     "data": {
      "text/plain": [
       "0.6391214419383433"
      ]
     },
     "execution_count": 47,
     "metadata": {},
     "output_type": "execute_result"
    }
   ],
   "source": [
    "grid.best_score_"
   ]
  },
  {
   "cell_type": "code",
   "execution_count": 48,
   "id": "08183ce5",
   "metadata": {},
   "outputs": [
    {
     "data": {
      "text/plain": [
       "{'trf5__max_depth': 2}"
      ]
     },
     "execution_count": 48,
     "metadata": {},
     "output_type": "execute_result"
    }
   ],
   "source": [
    "grid.best_params_"
   ]
  },
  {
   "cell_type": "markdown",
   "id": "3cf54154",
   "metadata": {},
   "source": [
    "### Exporting the Pipeline"
   ]
  },
  {
   "cell_type": "code",
   "execution_count": 49,
   "id": "39c29d19",
   "metadata": {},
   "outputs": [],
   "source": [
    "#export\n",
    "import pickle\n",
    "pickle.dump(pipe,open('pipe.pkl','wb'))"
   ]
  },
  {
   "cell_type": "code",
   "execution_count": null,
   "id": "fb14c17e",
   "metadata": {},
   "outputs": [],
   "source": []
  }
 ],
 "metadata": {
  "kernelspec": {
   "display_name": "Python 3 (ipykernel)",
   "language": "python",
   "name": "python3"
  },
  "language_info": {
   "codemirror_mode": {
    "name": "ipython",
    "version": 3
   },
   "file_extension": ".py",
   "mimetype": "text/x-python",
   "name": "python",
   "nbconvert_exporter": "python",
   "pygments_lexer": "ipython3",
   "version": "3.8.13"
  }
 },
 "nbformat": 4,
 "nbformat_minor": 5
}
